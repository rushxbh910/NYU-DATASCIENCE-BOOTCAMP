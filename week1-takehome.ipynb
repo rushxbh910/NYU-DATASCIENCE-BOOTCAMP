{
 "cells": [
  {
   "cell_type": "markdown",
   "metadata": {},
   "source": [
    "1.1- Takes word as USER INPUT   \n",
    "1.2- Word is defined"
   ]
  },
  {
   "cell_type": "code",
   "execution_count": 21,
   "metadata": {},
   "outputs": [
    {
     "name": "stdout",
     "output_type": "stream",
     "text": [
      "the no. of vowels in the word is/are 5\n"
     ]
    }
   ],
   "source": [
    "# 1.1 Write a function  count_vowels(word) that takes a word as an argument and returns the number of vowels in the word \n",
    "# (USER INPUT)\n",
    "\n",
    "\n",
    "def count_vowels(word):\n",
    "    count=0\n",
    "    for x in word:\n",
    "        if x in ('a', 'e', 'i', 'o', 'u'):\n",
    "            count+=1\n",
    "    return count\n",
    "\n",
    "word=input(\"enter a word: \")\n",
    "print(\"the no. of vowels in the word is/are\",count_vowels(word))\n",
    "\n",
    "\n"
   ]
  },
  {
   "cell_type": "code",
   "execution_count": 23,
   "metadata": {},
   "outputs": [
    {
     "name": "stdout",
     "output_type": "stream",
     "text": [
      "the no. of vowels in the word is/are 2\n"
     ]
    }
   ],
   "source": [
    "#1.2 Write a function  count_vowels(word) that takes a word as an argument and returns the number of vowels in the word\n",
    "# (PRE CODED)\n",
    "\n",
    "\n",
    "def count_vowels(word):\n",
    "    count=0\n",
    "    for x in word:\n",
    "        if x in ('a', 'e', 'i', 'o', 'u'):\n",
    "            count+=1\n",
    "    return count\n",
    "\n",
    "word=\"nice\"\n",
    "print(\"the no. of vowels in the word is/are\",count_vowels(word))\n",
    "\n",
    "\n"
   ]
  },
  {
   "cell_type": "code",
   "execution_count": 25,
   "metadata": {},
   "outputs": [
    {
     "name": "stdout",
     "output_type": "stream",
     "text": [
      "TIGER\n",
      "ELEPHANT\n",
      "MONKEY\n",
      "ZEBRA\n",
      "PANTHER\n"
     ]
    }
   ],
   "source": [
    "# 2. Iterate through the following list of animals and print each one in all caps.\n",
    "# animals=['tiger', 'elephant', 'monkey', 'zebra', 'panther']\n",
    "\n",
    "animals=['tiger', 'elephant', 'monkey', 'zebra', 'panther']\n",
    "\n",
    "for x in animals:\n",
    "    print(x.upper())"
   ]
  },
  {
   "cell_type": "code",
   "execution_count": 27,
   "metadata": {},
   "outputs": [
    {
     "name": "stdout",
     "output_type": "stream",
     "text": [
      "0  is an even number\n",
      "1  is an odd number\n",
      "2  is an even number\n",
      "3  is an odd number\n",
      "4  is an even number\n",
      "5  is an odd number\n",
      "6  is an even number\n",
      "7  is an odd number\n",
      "8  is an even number\n",
      "9  is an odd number\n",
      "10  is an even number\n",
      "11  is an odd number\n",
      "12  is an even number\n",
      "13  is an odd number\n",
      "14  is an even number\n",
      "15  is an odd number\n",
      "16  is an even number\n",
      "17  is an odd number\n",
      "18  is an even number\n",
      "19  is an odd number\n",
      "20  is an even number\n"
     ]
    }
   ],
   "source": [
    "# 3. Write a program that iterates from 1 to 20, printing each number and whether it's odd or even.\n",
    "\n",
    "for i in range(21):\n",
    "    if i%2==0:\n",
    "        print(i,\" is an even number\")\n",
    "    else:\n",
    "        print(i,\" is an odd number\")"
   ]
  },
  {
   "cell_type": "code",
   "execution_count": 29,
   "metadata": {},
   "outputs": [
    {
     "name": "stdout",
     "output_type": "stream",
     "text": [
      "sum of 3  and  2  is:  5\n"
     ]
    }
   ],
   "source": [
    "# 4. Write a function sum_of_integers(a, b) that takes two integers as input from the user and returns their sum.\n",
    "\n",
    "def sum_of_integers(a,b):\n",
    "    s=a+b\n",
    "    return s\n",
    "\n",
    "s=0\n",
    "a= int(input(\"Enter Number a\"))\n",
    "b= int(input(\"Enter Number b\"))\n",
    "print(\"sum of\",a,\" and \",b,\" is: \",sum_of_integers(a,b))"
   ]
  }
 ],
 "metadata": {
  "kernelspec": {
   "display_name": "base",
   "language": "python",
   "name": "python3"
  },
  "language_info": {
   "codemirror_mode": {
    "name": "ipython",
    "version": 3
   },
   "file_extension": ".py",
   "mimetype": "text/x-python",
   "name": "python",
   "nbconvert_exporter": "python",
   "pygments_lexer": "ipython3",
   "version": "3.11.5"
  }
 },
 "nbformat": 4,
 "nbformat_minor": 2
}
